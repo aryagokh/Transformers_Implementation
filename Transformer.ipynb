{
 "cells": [
  {
   "cell_type": "markdown",
   "id": "5a84b7ac",
   "metadata": {},
   "source": [
    "![Transformer](images/Transfomer.png)"
   ]
  },
  {
   "cell_type": "markdown",
   "id": "8eb83444",
   "metadata": {},
   "source": [
    "## Imports"
   ]
  },
  {
   "cell_type": "code",
   "execution_count": 1,
   "id": "6eaf277a",
   "metadata": {},
   "outputs": [],
   "source": [
    "import numpy as np\n",
    "import torch\n",
    "import torch.nn as nn\n",
    "import torch.optim as optim\n",
    "import matplotlib.pyplot as plt"
   ]
  },
  {
   "cell_type": "markdown",
   "id": "5d93061d",
   "metadata": {},
   "source": [
    "## Word Embeddings"
   ]
  },
  {
   "cell_type": "markdown",
   "id": "5fe921ae",
   "metadata": {},
   "source": [
    "* Neural networks inherently do not comprehend textual data in its raw form—words must be transformed into numerical representations (tokens) for the model to process them.\n",
    "\n",
    "* Therefore, it's essential to convert words into tokens using a predefined vocabulary or dictionary.\n",
    "\n",
    "In this example, we use a dummy vocabulary for simplicity. However, in the \"Attention Is All You Need\" paper, the actual vocabulary size exceeds 50,000 tokens."
   ]
  },
  {
   "cell_type": "code",
   "execution_count": 2,
   "id": "b9bb1b9f",
   "metadata": {},
   "outputs": [],
   "source": [
    "sentences = ['ich mochte ein buch P', 'S i want a book', 'i want a book E']  \n",
    "# German, English(with SOS), English(with EOS)\n",
    "\n",
    "src_vocab = {'P': 0, 'ich': 1, 'mochte': 2, 'ein': 3, 'buch': 4}\n",
    "src_vocab_size = len(src_vocab)\n",
    "\n",
    "tgt_vocab = {'P': 0, 'i': 1, 'want': 2, 'a': 3, 'book': 4, 'S': 5, 'E': 6}\n",
    "number_dict = {i: w for i, w in enumerate(tgt_vocab)}\n",
    "tgt_vocab_size = len(tgt_vocab)\n",
    "\n",
    "src_len = 5 # length of source\n",
    "tgt_len = 5 # length of target"
   ]
  },
  {
   "cell_type": "code",
   "execution_count": 3,
   "id": "ed35fc5f",
   "metadata": {},
   "outputs": [],
   "source": [
    "def make_batch(sentences):\n",
    "    input_batch = [[src_vocab[n] for n in sentences[0].split()]]\n",
    "    output_batch = [[tgt_vocab[n] for n in sentences[1].split()]]\n",
    "    target_batch = [[tgt_vocab[n] for n in sentences[2].split()]]\n",
    "    return torch.LongTensor(input_batch), torch.LongTensor(output_batch), torch.LongTensor(target_batch)"
   ]
  },
  {
   "cell_type": "code",
   "execution_count": 4,
   "id": "28ea5480",
   "metadata": {},
   "outputs": [
    {
     "name": "stdout",
     "output_type": "stream",
     "text": [
      "Input Batch (German): tensor([[1, 2, 3, 4, 0]])\n",
      "Output Batch (English with SOS): tensor([[5, 1, 2, 3, 4]])\n",
      "Target Batch (English with EOS): tensor([[1, 2, 3, 4, 6]])\n"
     ]
    }
   ],
   "source": [
    "### Example:\n",
    "\n",
    "input_batch, output_batch, target_batch = make_batch(sentences=sentences)\n",
    "print(\"Input Batch (German):\", input_batch)\n",
    "print(\"Output Batch (English with SOS):\", output_batch)\n",
    "print(\"Target Batch (English with EOS):\", target_batch)"
   ]
  },
  {
   "cell_type": "markdown",
   "id": "2c123bfe",
   "metadata": {},
   "source": [
    "* The task illustrated above is German-to-English translation.\n",
    "* The German sentence serves as input to the Encoder, which we will explore in detail later.\n",
    "* The English sentence acts as the Decoder input, prefixed with a Start-of-Sentence (SOS) token to initiate the decoding process.\n",
    "* The target sequence is essentially the next token version of the decoder input—i.e., target[i] = output[i+1].\n",
    "* This alignment enables the Transformer to learn to predict the next token at each step, based on what it has already generated and the encoder’s context."
   ]
  },
  {
   "cell_type": "markdown",
   "id": "a3774e8e",
   "metadata": {},
   "source": [
    "## Positional Encoding"
   ]
  },
  {
   "cell_type": "markdown",
   "id": "01ac0614",
   "metadata": {},
   "source": [
    "* To inject information about the position of each token in the sequence, Positional Encoding is added to the input embeddings.\n",
    "\n",
    "* These encodings are computed using fixed sinusoidal functions (sine and cosine) of different frequencies, allowing the model to learn relative and absolute positions.\n",
    "\n",
    "* The positional encodings are added (element wise) to the input embeddings before feeding them into the encoder.\n",
    "\n",
    "* This positional information helps the model distinguish between tokens that appear in different positions, enabling it to model sequence order without recurrence or convolution."
   ]
  },
  {
   "cell_type": "code",
   "execution_count": 5,
   "id": "6934ad89",
   "metadata": {},
   "outputs": [],
   "source": [
    "def get_sinusoid_encoding_table(n_position, d_model):\n",
    "    def cal_angle(position, hid_idx):\n",
    "        return position / np.power(10000, 2 * (hid_idx // 2) / d_model)\n",
    "    def get_posi_angle_vec(position):\n",
    "        return [cal_angle(position, hid_j) for hid_j in range(d_model)]\n",
    "\n",
    "    sinusoid_table = np.array([get_posi_angle_vec(pos_i) for pos_i in range(n_position)])\n",
    "    sinusoid_table[:, 0::2] = np.sin(sinusoid_table[:, 0::2])  # dim 2i\n",
    "    sinusoid_table[:, 1::2] = np.cos(sinusoid_table[:, 1::2])  # dim 2i+1\n",
    "    return torch.FloatTensor(sinusoid_table)"
   ]
  },
  {
   "cell_type": "code",
   "execution_count": 6,
   "id": "edd20da3",
   "metadata": {},
   "outputs": [
    {
     "name": "stdout",
     "output_type": "stream",
     "text": [
      "torch.Size([10, 512])\n"
     ]
    }
   ],
   "source": [
    "no_of_words = 10\n",
    "embedding_size_per_word = 512\n",
    "temp = get_sinusoid_encoding_table(no_of_words, embedding_size_per_word)\n",
    "print(temp.shape)\n",
    "# (No of words, Embedding dim per word)"
   ]
  },
  {
   "cell_type": "markdown",
   "id": "f0abad26",
   "metadata": {},
   "source": [
    "This positional encoding and input embedding will be element wise added to get final embedding that will be passed to attention layers like this:\n",
    "\n",
    "!![Final Embedding](images/Embedding_layer.png)\n",
    "\n",
    "\n",
    "Now this will be passed to multi headed attention layer which we are going to see ahead."
   ]
  },
  {
   "cell_type": "markdown",
   "id": "65375257",
   "metadata": {},
   "source": [
    "## Multi-Head Attention & Helper Functions\n",
    "* Multi-head attention (n_heads) enables the model to attend to information from different representation subspaces simultaneously, allowing each head to capture unique semantic relationships in parallel.\n",
    "\n",
    "* Multiple layers (n_layers) refer to the repeated stacking of attention and feed-forward blocks, allowing the model to learn deeper and more abstract representations at each level."
   ]
  },
  {
   "cell_type": "code",
   "execution_count": 7,
   "id": "051505ad",
   "metadata": {},
   "outputs": [],
   "source": [
    "d_model = 512  # Embedding Size\n",
    "d_ff = 2048    # FeedForward dimension\n",
    "d_k = d_v = 64 # dimension of K(=Q), V\n",
    "n_layers = 6   # number of Encoder of Decoder Layer (Nx in the diagram)\n",
    "n_heads = 8    # number of heads in Multi-Head Attention  (No of heads to capture the different type of info whilst. parallely working)"
   ]
  },
  {
   "cell_type": "code",
   "execution_count": 8,
   "id": "1d397c2e",
   "metadata": {},
   "outputs": [],
   "source": [
    "def get_attn_pad_mask(seq_q, seq_k):\n",
    "    \"\"\"Creates a padding mask to ignore <PAD> tokens during attention calculation. \n",
    "       Padding tokens don't carry meaning and must be excluded from contributing to the attention.\"\"\"\n",
    "    batch_size, len_q = seq_q.size()\n",
    "    batch_size, len_k = seq_k.size()\n",
    "    # eq(zero) is PAD token\n",
    "    pad_attn_mask = seq_k.data.eq(0).unsqueeze(1)  # batch_size x 1 x len_k(=len_q), one is masking\n",
    "    return pad_attn_mask.expand(batch_size, len_q, len_k)  # batch_size x len_q x len_k"
   ]
  },
  {
   "cell_type": "markdown",
   "id": "9d99f10a",
   "metadata": {},
   "source": [
    "* seq_k.data.eq(0) returns a boolean mask where padding tokens are True (i.e., value 0).\n",
    "* unsqueeze(1) reshapes to add an extra dim for broadcasting → shape becomes [batch_size, 1, len_k]\n",
    "* expand(batch_size, len_q, len_k) replicates the mask across all query positions.\n",
    "* Used in both encoder and decoder to prevent attending to padded positions in the input."
   ]
  },
  {
   "cell_type": "code",
   "execution_count": 9,
   "id": "06764f2a",
   "metadata": {},
   "outputs": [],
   "source": [
    "def get_attn_subsequent_mask(seq):\n",
    "    \"\"\"Creates a look-ahead mask to prevent the decoder from \"seeing the future\" during training \n",
    "       (i.e., no peeking at tokens it hasn't generated yet) -- for decoder.\n",
    "    \"\"\"\n",
    "    attn_shape = [seq.size(0), seq.size(1), seq.size(1)]\n",
    "    subsequent_mask = np.triu(np.ones(attn_shape), k=1)\n",
    "    subsequent_mask = torch.from_numpy(subsequent_mask).byte()\n",
    "    return subsequent_mask"
   ]
  },
  {
   "cell_type": "markdown",
   "id": "a87acf51",
   "metadata": {},
   "source": [
    "* Constructs a triangular matrix (np.triu) with 1s above the diagonal (upper triangle).\n",
    "* Shape: [batch_size, tgt_len, tgt_len]\n",
    "* Final mask blocks all positions after the current one in a sequence.\n",
    "* Used only in decoder self-attention."
   ]
  },
  {
   "cell_type": "code",
   "execution_count": 10,
   "id": "dde0cacd",
   "metadata": {},
   "outputs": [],
   "source": [
    "class ScaledDotProductAttention(nn.Module):\n",
    "    def __init__(self):\n",
    "        super(ScaledDotProductAttention, self).__init__()\n",
    "\n",
    "    def forward(self, Q, K, V, attn_mask):\n",
    "        scores = torch.matmul(Q, K.transpose(-1, -2)) / np.sqrt(d_k) # scores : [batch_size x n_heads x len_q(=len_k) x len_k(=len_q)]\n",
    "        scores.masked_fill_(attn_mask, -1e9) # Fills elements of self tensor with value where mask is one.\n",
    "        attn = nn.Softmax(dim=-1)(scores)\n",
    "        context = torch.matmul(attn, V)\n",
    "        return context, attn"
   ]
  },
  {
   "cell_type": "markdown",
   "id": "cd4111d8",
   "metadata": {},
   "source": [
    "* Score Computation: This measures how well each token aligns with the others (The QK softmax equation).\n",
    "* Masking: Applies padding or look-ahead masks — essentially zeroing out attention where needed.\n",
    "* Softmax: Turns scores into probabilities → attention weights.\n",
    "* Context Vector: Weighted sum of values, depending on attention weights."
   ]
  },
  {
   "cell_type": "markdown",
   "id": "397c9fce",
   "metadata": {},
   "source": [
    "The visualization and in-depth explaination of the multi-headed attention:\n",
    "\n",
    "![Query Key Value](images/qkv.png)\n",
    "\n",
    "\n",
    "### The query, key and value pair are generated in each head.  The process is as follows:\n",
    "\n",
    "* Suppose the max sentence length is 10 and each word is a 512 dim embedding. Thus, Input sentence: (10, 512)\n",
    "* Then a W_q, W_k and W_v is initialized and it is of dimension: (512, 64) .... (if 8 heads because this 64x8=512 which is same as initial dimension).\n",
    "* Thus, each Q, K, V will have (10, 64) dimension and all heads will concatenate at last making dimension of (10, 512) and original dimension is preserved.\n",
    "\n",
    "* This Q and K will be multiplied element wise as Q.K_Transpose giving dimension of (10, 10). This will be passed to softmax function for probabilities.\n",
    "* This (10, 10) will be the representation of how the words are dependent on each other. This will be passed to softmax function as follows:\n",
    "\n",
    "!![alt](images/eqn.png)\n",
    "\n",
    "* The idea is that dividing by sqrt(dk) helps to normalize the dot product values, preventing them from becoming too large and maintaining a manageable range of values for the input to the softmax function.\n",
    "* This softmax output will be multiplied with Value matrix to get the **weighted value matrix**. \n",
    "* This weighted value matrix will be context aware of all the words in the sentence.\n",
    "\n",
    "This all will have a batch dimension added to them for parallelism and efficiency."
   ]
  },
  {
   "cell_type": "code",
   "execution_count": 11,
   "id": "ae62cf8f",
   "metadata": {},
   "outputs": [],
   "source": [
    "class MultiHeadAttention(nn.Module):\n",
    "    def __init__(self):\n",
    "        super(MultiHeadAttention, self).__init__()\n",
    "        self.W_Q = nn.Linear(d_model, d_k * n_heads)  # (512, 64x8)  \n",
    "        self.W_K = nn.Linear(d_model, d_k * n_heads)\n",
    "        self.W_V = nn.Linear(d_model, d_v * n_heads)\n",
    "        self.linear = nn.Linear(n_heads * d_v, d_model)\n",
    "        self.layer_norm = nn.LayerNorm(d_model)\n",
    "\n",
    "    def forward(self, Q, K, V, attn_mask):\n",
    "        # q: [batch_size x len_q x d_model], \n",
    "        # k: [batch_size x len_k x d_model], \n",
    "        # v: [batch_size x len_k x d_model]\n",
    "\n",
    "        residual, batch_size = Q, Q.size(0)\n",
    "\n",
    "        # (B, S, D) -proj-> (B, S, D) -split-> (B, S, H, W) -trans-> (B, H, S, W)\n",
    "        q_s = self.W_Q(Q).view(batch_size, -1, n_heads, d_k).transpose(1,2)  # q_s: [batch_size x n_heads x len_q x d_k]\n",
    "        k_s = self.W_K(K).view(batch_size, -1, n_heads, d_k).transpose(1,2)  # k_s: [batch_size x n_heads x len_k x d_k]\n",
    "        v_s = self.W_V(V).view(batch_size, -1, n_heads, d_v).transpose(1,2)  # v_s: [batch_size x n_heads x len_k x d_v]\n",
    "\n",
    "        attn_mask = attn_mask.unsqueeze(1).repeat(1, n_heads, 1, 1)          # attn_mask: [batch_size x n_heads x len_q x len_k]\n",
    "\n",
    "        # context: [batch_size x n_heads x len_q x d_v], attn: [batch_size x n_heads x len_q(=len_k) x len_k(=len_q)]\n",
    "        context, attn = ScaledDotProductAttention()(q_s, k_s, v_s, attn_mask)\n",
    "        context = context.transpose(1, 2).contiguous().view(batch_size, -1, n_heads * d_v) # context: [batch_size x len_q x n_heads * d_v]\n",
    "        output = self.linear(context)\n",
    "        return self.layer_norm(output + residual), attn # output: [batch_size x len_q x d_model]"
   ]
  },
  {
   "cell_type": "markdown",
   "id": "8e17084c",
   "metadata": {},
   "source": [
    "![Feed Forward NN](images/FFnn.png)"
   ]
  },
  {
   "cell_type": "code",
   "execution_count": 12,
   "id": "af609323",
   "metadata": {},
   "outputs": [],
   "source": [
    "class PoswiseFeedForwardNet(nn.Module):\n",
    "    \"\"\"Feed Forward nn for enhanced capturing of information.\n",
    "       Brings the output from attention back to original input shape.\n",
    "       Also introduces non-linearity to capture feature more efficiently\"\"\"\n",
    "    def __init__(self):\n",
    "        super(PoswiseFeedForwardNet, self).__init__()\n",
    "        self.conv1 = nn.Conv1d(in_channels=d_model, out_channels=d_ff, kernel_size=1)\n",
    "        self.conv2 = nn.Conv1d(in_channels=d_ff, out_channels=d_model, kernel_size=1)\n",
    "        self.layer_norm = nn.LayerNorm(d_model)\n",
    "\n",
    "    def forward(self, inputs):\n",
    "        residual = inputs # inputs : [batch_size, len_q, d_model]\n",
    "        output = nn.ReLU()(self.conv1(inputs.transpose(1, 2)))\n",
    "        output = self.conv2(output).transpose(1, 2)\n",
    "        return self.layer_norm(output + residual) # Original input features is obtained from this."
   ]
  },
  {
   "cell_type": "markdown",
   "id": "cbb08ad4",
   "metadata": {},
   "source": [
    "![Encoder Block](images/Encoder.png)"
   ]
  },
  {
   "cell_type": "markdown",
   "id": "a2ed43f2",
   "metadata": {},
   "source": [
    "* Positional Encoded word embeddings -> MultiHead Attention -> Concatenation -> Feed forward (regain the original shape of input and introduce non-linearlity to capture semantics more efficiently).\n",
    "\n",
    "* Multi-headed attention captures the semantics and outputs a refined version of Value matrix which contains all the meaning (semantics) from the previous and ahead words."
   ]
  },
  {
   "cell_type": "code",
   "execution_count": 13,
   "id": "e9fb4d7f",
   "metadata": {},
   "outputs": [],
   "source": [
    "class EncoderLayer(nn.Module):\n",
    "    \"\"\"Multi Head Attention followed by FeedForwardNN along with Add and Normalization. Please refer above picture for viz.\"\"\"\n",
    "    def __init__(self):\n",
    "        super(EncoderLayer, self).__init__()\n",
    "        self.enc_self_attn = MultiHeadAttention()\n",
    "        self.pos_ffn = PoswiseFeedForwardNet()\n",
    "\n",
    "    def forward(self, enc_inputs, enc_self_attn_mask):\n",
    "        enc_outputs, attn = self.enc_self_attn(enc_inputs, enc_inputs, enc_inputs, enc_self_attn_mask) # enc_inputs to same Q,K,V\n",
    "        enc_outputs = self.pos_ffn(enc_outputs) # enc_outputs: [batch_size x len_q x d_model]\n",
    "        return enc_outputs, attn"
   ]
  },
  {
   "cell_type": "markdown",
   "id": "59c1c150",
   "metadata": {},
   "source": [
    "![Decoder Block](images/Decoder.png)"
   ]
  },
  {
   "cell_type": "markdown",
   "id": "adf4370b",
   "metadata": {},
   "source": [
    "* The target embeddings (i.e., the output sentence so far) are first passed through the Masked Multi-Head Attention block.\n",
    "* This attention layer uses a look-ahead mask (also called a subsequent mask) to ensure that each position can only attend to previous and current positions — not future ones. This mask replaces ahead words with -infinity. \n",
    "* Why -infinity -> Because the softmax function's equation make it 0, thus minimizing its impact on previous words.\n",
    "\n",
    "![Masked Muti-Head Attention](images/Masked_MHA.png)\n",
    "* This restriction is crucial during training, because:\n",
    "    * Without it, the model would \"peek\" at the correct next word while predicting — which would be data leakage or cheating.\n",
    "    * This masking enforces autoregressive behavior, enabling the decoder to generate tokens one at a time during inference, just like language models.\n",
    "\n",
    "* The output of this masked attention block is passed to the second multi-head attention block in the decoder.\n",
    "* Here, the Query (Q) comes from output of the decoder side and the Key (K) and Value (V) come from the encoder outputs.\n",
    "* The weighted value matrix is then obtained, concatenated and passed through feed forward layer.\n",
    "This completes the decoder block. "
   ]
  },
  {
   "cell_type": "code",
   "execution_count": 14,
   "id": "bc82679d",
   "metadata": {},
   "outputs": [],
   "source": [
    "class DecoderLayer(nn.Module):\n",
    "    def __init__(self):\n",
    "        super(DecoderLayer, self).__init__()\n",
    "        self.dec_self_attn = MultiHeadAttention()\n",
    "        self.dec_enc_attn = MultiHeadAttention()\n",
    "        self.pos_ffn = PoswiseFeedForwardNet()\n",
    "\n",
    "    def forward(self, dec_inputs, enc_outputs, dec_self_attn_mask, dec_enc_attn_mask):\n",
    "        dec_outputs, dec_self_attn = self.dec_self_attn(dec_inputs, dec_inputs, dec_inputs, dec_self_attn_mask)\n",
    "        dec_outputs, dec_enc_attn = self.dec_enc_attn(dec_outputs, enc_outputs, enc_outputs, dec_enc_attn_mask)\n",
    "        dec_outputs = self.pos_ffn(dec_outputs)\n",
    "        return dec_outputs, dec_self_attn, dec_enc_attn"
   ]
  },
  {
   "cell_type": "markdown",
   "id": "296772b8",
   "metadata": {},
   "source": [
    "* The Encoder is N times the encoder layer.\n",
    "* The process is repeated n-times to make sure all the semantics and dependencies are captured."
   ]
  },
  {
   "cell_type": "code",
   "execution_count": 15,
   "id": "7554870e",
   "metadata": {},
   "outputs": [],
   "source": [
    "class Encoder(nn.Module):\n",
    "    def __init__(self):\n",
    "        super(Encoder, self).__init__()\n",
    "        self.src_emb = nn.Embedding(src_vocab_size, d_model)    # Embedding layer\n",
    "        self.pos_emb = nn.Embedding.from_pretrained(get_sinusoid_encoding_table(src_len+1, d_model),freeze=True)  #Positional Encoding layer\n",
    "        self.layers = nn.ModuleList([EncoderLayer() for _ in range(n_layers)])   # Nx EncoderLayer\n",
    "\n",
    "    def forward(self, enc_inputs): # enc_inputs : [batch_size x source_len]\n",
    "        enc_outputs = self.src_emb(enc_inputs) + self.pos_emb(torch.LongTensor([[1,2,3,4,0]]))   # Embedding + Positional Encoding\n",
    "        enc_self_attn_mask = get_attn_pad_mask(enc_inputs, enc_inputs)  # Padding Mask\n",
    "        enc_self_attns = []\n",
    "        for layer in self.layers:\n",
    "            enc_outputs, enc_self_attn = layer(enc_outputs, enc_self_attn_mask)\n",
    "            enc_self_attns.append(enc_self_attn)\n",
    "        return enc_outputs, enc_self_attns"
   ]
  },
  {
   "cell_type": "code",
   "execution_count": 16,
   "id": "ee3dbd46",
   "metadata": {},
   "outputs": [],
   "source": [
    "class Decoder(nn.Module):\n",
    "    def __init__(self):\n",
    "        super(Decoder, self).__init__()\n",
    "        self.tgt_emb = nn.Embedding(tgt_vocab_size, d_model)    # Word Embedding\n",
    "        self.pos_emb = nn.Embedding.from_pretrained(get_sinusoid_encoding_table(tgt_len+1, d_model),freeze=True) # Positional Encoding\n",
    "        self.layers = nn.ModuleList([DecoderLayer() for _ in range(n_layers)])    # Nx DecoderLayer\n",
    "\n",
    "    def forward(self, dec_inputs, enc_inputs, enc_outputs): # dec_inputs : [batch_size x target_len]\n",
    "        dec_outputs = self.tgt_emb(dec_inputs) + self.pos_emb(torch.LongTensor([[5,1,2,3,4]]))    # Embedding + Positional Encoding\n",
    "        dec_self_attn_pad_mask = get_attn_pad_mask(dec_inputs, dec_inputs)     # Padding Attention mask\n",
    "        dec_self_attn_subsequent_mask = get_attn_subsequent_mask(dec_inputs)   # Multi-Head Attention mask\n",
    "        dec_self_attn_mask = torch.gt((dec_self_attn_pad_mask + dec_self_attn_subsequent_mask), 0)  # Combined previous 2 masks\n",
    "\n",
    "        dec_enc_attn_mask = get_attn_pad_mask(dec_inputs, enc_inputs) # Prevents decoder from attending to PADs in the encoder outputs\n",
    "\n",
    "        dec_self_attns, dec_enc_attns = [], []\n",
    "        for layer in self.layers:\n",
    "            dec_outputs, dec_self_attn, dec_enc_attn = layer(dec_outputs, enc_outputs, dec_self_attn_mask, dec_enc_attn_mask)\n",
    "            dec_self_attns.append(dec_self_attn)\n",
    "            dec_enc_attns.append(dec_enc_attn)\n",
    "        return dec_outputs, dec_self_attns, dec_enc_attns"
   ]
  },
  {
   "cell_type": "code",
   "execution_count": 17,
   "id": "29b12d25",
   "metadata": {},
   "outputs": [],
   "source": [
    "class Transformer(nn.Module):      # Combined Encoders and Decoders Layers\n",
    "    def __init__(self):\n",
    "        super(Transformer, self).__init__()\n",
    "        self.encoder = Encoder()\n",
    "        self.decoder = Decoder()\n",
    "        self.projection = nn.Linear(d_model, tgt_vocab_size, bias=False)\n",
    "    def forward(self, enc_inputs, dec_inputs):\n",
    "        enc_outputs, enc_self_attns = self.encoder(enc_inputs)\n",
    "        dec_outputs, dec_self_attns, dec_enc_attns = self.decoder(dec_inputs, enc_inputs, enc_outputs)\n",
    "        dec_logits = self.projection(dec_outputs) # dec_logits : [batch_size x src_vocab_size x tgt_vocab_size]\n",
    "        return dec_logits.view(-1, dec_logits.size(-1)), enc_self_attns, dec_self_attns, dec_enc_attns"
   ]
  },
  {
   "cell_type": "code",
   "execution_count": 18,
   "id": "a0b65929",
   "metadata": {},
   "outputs": [],
   "source": [
    "def showgraph(attn):\n",
    "    \"\"\"Plot graphs for attention layers\"\"\"\n",
    "    attn = attn[-1].squeeze(0)[0]\n",
    "    attn = attn.squeeze(0).data.numpy()\n",
    "    fig = plt.figure(figsize=(n_heads, n_heads)) # [n_heads, n_heads]\n",
    "    ax = fig.add_subplot(1, 1, 1)\n",
    "    ax.matshow(attn, cmap='viridis')\n",
    "    ax.set_xticklabels(['']+sentences[0].split(), fontdict={'fontsize': 14}, rotation=90)\n",
    "    ax.set_yticklabels(['']+sentences[2].split(), fontdict={'fontsize': 14})\n",
    "    plt.show()"
   ]
  },
  {
   "cell_type": "markdown",
   "id": "1a6401c6",
   "metadata": {},
   "source": [
    "------"
   ]
  },
  {
   "cell_type": "markdown",
   "id": "cac1a8df",
   "metadata": {},
   "source": [
    "## Sample training"
   ]
  },
  {
   "cell_type": "code",
   "execution_count": 19,
   "id": "b4f93a03",
   "metadata": {},
   "outputs": [],
   "source": [
    "sentences = ['ich mochte ein buch P', 'S i want a book', 'i want a book E']\n",
    "src_vocab = {'P': 0, 'ich': 1, 'mochte': 2, 'ein': 3, 'buch': 4}\n",
    "src_vocab_size = len(src_vocab)\n",
    "\n",
    "tgt_vocab = {'P': 0, 'i': 1, 'want': 2, 'a': 3, 'book': 4, 'S': 5, 'E': 6}\n",
    "number_dict = {i: w for i, w in enumerate(tgt_vocab)}\n",
    "tgt_vocab_size = len(tgt_vocab)\n",
    "\n",
    "src_len = 5 # length of source\n",
    "tgt_len = 5 # length of target\n",
    "\n",
    "d_model = 512  # Embedding Size\n",
    "d_ff = 2048  # FeedForward dimension\n",
    "d_k = d_v = 64  # dimension of K(=Q), V\n",
    "n_layers = 6  # number of Encoder of Decoder Layer\n",
    "n_heads = 8  # number of heads in Multi-Head Attention"
   ]
  },
  {
   "cell_type": "code",
   "execution_count": 20,
   "id": "1fde9f80",
   "metadata": {},
   "outputs": [
    {
     "name": "stdout",
     "output_type": "stream",
     "text": [
      "Epoch: 0001 cost = 2.296342\n",
      "Epoch: 0002 cost = 1.159179\n",
      "Epoch: 0003 cost = 4.673470\n",
      "Epoch: 0004 cost = 3.840153\n",
      "Epoch: 0005 cost = 4.028556\n",
      "Epoch: 0006 cost = 2.651024\n",
      "Epoch: 0007 cost = 1.989865\n",
      "Epoch: 0008 cost = 2.584510\n",
      "Epoch: 0009 cost = 1.829306\n",
      "Epoch: 0010 cost = 1.952755\n",
      "Epoch: 0011 cost = 1.565020\n",
      "Epoch: 0012 cost = 1.617409\n",
      "Epoch: 0013 cost = 1.575526\n",
      "Epoch: 0014 cost = 1.509725\n",
      "Epoch: 0015 cost = 1.470095\n",
      "Epoch: 0016 cost = 1.423712\n",
      "Epoch: 0017 cost = 1.340472\n",
      "Epoch: 0018 cost = 1.200232\n",
      "Epoch: 0019 cost = 1.008104\n",
      "Epoch: 0020 cost = 0.902897\n"
     ]
    }
   ],
   "source": [
    "model = Transformer()\n",
    "\n",
    "criterion = nn.CrossEntropyLoss()\n",
    "optimizer = optim.Adam(model.parameters(), lr=0.001)\n",
    "\n",
    "enc_inputs, dec_inputs, target_batch = make_batch(sentences)\n",
    "for epoch in range(20):\n",
    "    optimizer.zero_grad()\n",
    "    outputs, enc_self_attns, dec_self_attns, dec_enc_attns = model(enc_inputs, dec_inputs)\n",
    "    loss = criterion(outputs, target_batch.contiguous().view(-1))\n",
    "    print('Epoch:', '%04d' % (epoch + 1), 'cost =', '{:.6f}'.format(loss))\n",
    "    loss.backward()\n",
    "    optimizer.step()"
   ]
  },
  {
   "cell_type": "markdown",
   "id": "c737d511",
   "metadata": {},
   "source": [
    "## Testing "
   ]
  },
  {
   "cell_type": "code",
   "execution_count": 21,
   "id": "795460dc",
   "metadata": {},
   "outputs": [],
   "source": [
    "# S: Symbol that shows starting of decoding input\n",
    "# E: Symbol that shows starting of decoding output\n",
    "# P: Symbol that will fill in blank sequence if current batch data size is short than time steps"
   ]
  },
  {
   "cell_type": "code",
   "execution_count": 22,
   "id": "a596dec5",
   "metadata": {},
   "outputs": [
    {
     "name": "stdout",
     "output_type": "stream",
     "text": [
      "ich mochte ein buch P -> ['want', 'want', 'a', 'want', 'E']\n"
     ]
    }
   ],
   "source": [
    "import warnings\n",
    "warnings.filterwarnings('ignore')\n",
    "predict, _, _, _ = model(enc_inputs, dec_inputs)\n",
    "predict = predict.data.max(1, keepdim=True)[1]\n",
    "print(sentences[0], '->', [number_dict[n.item()] for n in predict.squeeze()])"
   ]
  },
  {
   "cell_type": "code",
   "execution_count": 23,
   "id": "28a0f9de",
   "metadata": {},
   "outputs": [
    {
     "name": "stdout",
     "output_type": "stream",
     "text": [
      "first head of last state enc_self_attns\n"
     ]
    },
    {
     "data": {
      "image/png": "[encoded data removed]",
      "text/plain": [
       "<Figure size 800x800 with 1 Axes>"
      ]
     },
     "metadata": {},
     "output_type": "display_data"
    },
    {
     "name": "stdout",
     "output_type": "stream",
     "text": [
      "first head of last state dec_self_attns\n"
     ]
    },
    {
     "data": {
      "image/png": "[encoded data removed]",
      "text/plain": [
       "<Figure size 800x800 with 1 Axes>"
      ]
     },
     "metadata": {},
     "output_type": "display_data"
    },
    {
     "name": "stdout",
     "output_type": "stream",
     "text": [
      "first head of last state dec_enc_attns\n"
     ]
    },
    {
     "data": {
      "image/png": "[encoded data removed]",
      "text/plain": [
       "<Figure size 800x800 with 1 Axes>"
      ]
     },
     "metadata": {},
     "output_type": "display_data"
    }
   ],
   "source": [
    "print('first head of last state enc_self_attns')\n",
    "showgraph(enc_self_attns) # P is masked as it is padding and to be avoided.\n",
    "\n",
    "print('first head of last state dec_self_attns')\n",
    "showgraph(dec_self_attns) # Upper triangular masking.\n",
    "\n",
    "print('first head of last state dec_enc_attns')\n",
    "showgraph(dec_enc_attns)  # Again, P is padded."
   ]
  }
 ],
 "metadata": {
  "kernelspec": {
   "display_name": "Python 3",
   "language": "python",
   "name": "python3"
  },
  "language_info": {
   "codemirror_mode": {
    "name": "ipython",
    "version": 3
   },
   "file_extension": ".py",
   "mimetype": "text/x-python",
   "name": "python",
   "nbconvert_exporter": "python",
   "pygments_lexer": "ipython3",
   "version": "3.10.16"
  }
 },
 "nbformat": 4,
 "nbformat_minor": 5
}
